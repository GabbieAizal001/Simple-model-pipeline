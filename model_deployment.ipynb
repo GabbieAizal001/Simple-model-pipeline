{
  "nbformat": 4,
  "nbformat_minor": 0,
  "metadata": {
    "colab": {
      "provenance": []
    },
    "kernelspec": {
      "name": "python3",
      "display_name": "Python 3"
    },
    "language_info": {
      "name": "python"
    }
  },
  "cells": [
    {
      "cell_type": "code",
      "execution_count": null,
      "metadata": {
        "id": "KV3HVm3oFmR4"
      },
      "outputs": [],
      "source": [
        "from flask import Flask, request, jsonify\n",
        "\n",
        "from werkzeug.serving import run_simple\n",
        "\n",
        "import joblib\n",
        "\n",
        "import numpy as np\n",
        "\n",
        "\n",
        "app = Flask(__name__)\n",
        "\n",
        "\n",
        "# Load the pipeline you trained\n",
        "\n",
        "model_pipeline = joblib.load('breast_cancer_model.pkl')\n",
        "\n",
        "\n",
        "@app.route('/predict', methods=['POST'])\n",
        "\n",
        "def predict():\n",
        "\n",
        "    try:\n",
        "\n",
        "        data = request.get_json(force=True)\n",
        "\n",
        "\n",
        "\n",
        "        # Ensure the input has 30 features\n",
        "\n",
        "        features = np.array(data['features']).reshape(1, -1)\n",
        "\n",
        "\n",
        "\n",
        "        # Make a prediction using the full pipeline\n",
        "\n",
        "        prediction = model_pipeline.predict(features)[0]\n",
        "\n",
        "        # The model returns 0 for malignant and 1 for benign\n",
        "\n",
        "        result = \"benign\" if prediction == 1 else \"malignant\"\n",
        "\n",
        "\n",
        "\n",
        "        return jsonify({'prediction': result})\n",
        "\n",
        "\n",
        "    except Exception as e:\n",
        "\n",
        "        return jsonify({'error': str(e)}), 400\n",
        "\n",
        "\n",
        "# Run the Flask app on a specific host and port for ngrok to tunnel to\n",
        "\n",
        "# This will keep the cell running until you stop it\n",
        "\n",
        "run_simple(\"0.0.0.0\", 5000, app)\n",
        "\n"
      ]
    }
  ]
}