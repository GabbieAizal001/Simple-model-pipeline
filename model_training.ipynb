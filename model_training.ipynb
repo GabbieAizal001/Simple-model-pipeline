{
  "nbformat": 4,
  "nbformat_minor": 0,
  "metadata": {
    "colab": {
      "provenance": []
    },
    "kernelspec": {
      "name": "python3",
      "display_name": "Python 3"
    },
    "language_info": {
      "name": "python"
    }
  },
  "cells": [
    {
      "cell_type": "code",
      "execution_count": null,
      "metadata": {
        "id": "aTL2EuxbFPK-"
      },
      "outputs": [],
      "source": [
        "import joblib\n",
        "\n",
        "import pandas as pd\n",
        "\n",
        "from sklearn.model_selection import train_test_split\n",
        "\n",
        "from sklearn.pipeline import Pipeline\n",
        "\n",
        "from sklearn.preprocessing import StandardScaler\n",
        "\n",
        "from sklearn.decomposition import PCA\n",
        "\n",
        "from sklearn.svm import SVC\n",
        "\n",
        "from sklearn.metrics import classification_report, accuracy_score\n",
        "\n",
        "from sklearn.datasets import load_breast_cancer\n",
        "\n",
        "\n",
        "# 1. Load the dataset\n",
        "\n",
        "cancer = load_breast_cancer(as_frame=True)\n",
        "\n",
        "X, y = cancer.data, cancer.target\n",
        "\n",
        "\n",
        "# 2. Split the data into training set and testing set\n",
        "\n",
        "X_train, X_test, y_train, y_test = train_test_split(X, y, test_size=0.2, random_state=42)\n",
        "\n",
        "\n",
        "# 3. Build a pipeline\n",
        "\n",
        "model_pipeline = Pipeline([\n",
        "\n",
        "    ('scaler', StandardScaler()),\n",
        "\n",
        "    ('pca', PCA(n_components=10)),\n",
        "\n",
        "    ('classifier', SVC(gamma='auto'))\n",
        "\n",
        "])\n",
        "\n",
        "\n",
        "# 4. Train the pipeline\n",
        "\n",
        "model_pipeline.fit(X_train, y_train)\n",
        "\n",
        "# 5. Evaluate the model (optional, for verification)\n",
        "\n",
        "y_pred = model_pipeline.predict(X_test)\n",
        "\n",
        "print(\"Model Accuracy:\", accuracy_score(y_test, y_pred))\n",
        "\n",
        "print(\"\\nClassification Report:\")\n",
        "\n",
        "print(classification_report(y_test, y_pred, target_names=['malignant', 'benign']))\n",
        "\n",
        "\n",
        "# 6. Save the trained pipeline\n",
        "\n",
        "joblib.dump(model_pipeline, 'breast_cancer_model.pkl')\n",
        "\n",
        "\n"
      ]
    }
  ]
}